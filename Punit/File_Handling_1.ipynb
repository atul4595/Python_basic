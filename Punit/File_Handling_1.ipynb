{
 "cells": [
  {
   "cell_type": "code",
   "execution_count": null,
   "metadata": {},
   "outputs": [],
   "source": []
  },
  {
   "cell_type": "code",
   "execution_count": 6,
   "metadata": {},
   "outputs": [
    {
     "name": "stdout",
     "output_type": "stream",
     "text": [
      "This is a text file \n",
      "I am learning fike handling in python\n",
      "Python is a high level programming language\n",
      "It is simple and easy to use.\n"
     ]
    }
   ],
   "source": [
    "# Step1 => opening the file\n",
    "result = open('file.txt','r')\n",
    "#Step 2 - performing operation\n",
    "print(result.read())\n",
    "# Step 3 - closing the file\n",
    "result.close()"
   ]
  },
  {
   "cell_type": "code",
   "execution_count": 5,
   "metadata": {},
   "outputs": [
    {
     "ename": "ValueError",
     "evalue": "I/O operation on closed file.",
     "output_type": "error",
     "traceback": [
      "\u001b[0;31m---------------------------------------------------------------------------\u001b[0m",
      "\u001b[0;31mValueError\u001b[0m                                Traceback (most recent call last)",
      "\u001b[0;32m<ipython-input-5-2d3095308475>\u001b[0m in \u001b[0;36m<module>\u001b[0;34m\u001b[0m\n\u001b[0;32m----> 1\u001b[0;31m \u001b[0mprint\u001b[0m\u001b[0;34m(\u001b[0m\u001b[0mresult\u001b[0m\u001b[0;34m.\u001b[0m\u001b[0mread\u001b[0m\u001b[0;34m(\u001b[0m\u001b[0;34m)\u001b[0m\u001b[0;34m)\u001b[0m\u001b[0;34m\u001b[0m\u001b[0;34m\u001b[0m\u001b[0m\n\u001b[0m",
      "\u001b[0;31mValueError\u001b[0m: I/O operation on closed file."
     ]
    }
   ],
   "source": [
    "print(result.read())"
   ]
  },
  {
   "cell_type": "code",
   "execution_count": 8,
   "metadata": {},
   "outputs": [
    {
     "name": "stdout",
     "output_type": "stream",
     "text": [
      "This is a text file \n",
      "\n",
      "I am learning fike handling in python\n",
      "\n",
      "Python is a high level programming language\n",
      "\n"
     ]
    }
   ],
   "source": [
    "# Step1 => opening the file\n",
    "result = open('file.txt','r')\n",
    "#Step 2 - performing operation\n",
    "print(result.readline())\n",
    "print(result.readline())\n",
    "print(result.readline())\n",
    "# Step 3 - closing the file\n",
    "result.close()"
   ]
  },
  {
   "cell_type": "code",
   "execution_count": 9,
   "metadata": {},
   "outputs": [
    {
     "name": "stdout",
     "output_type": "stream",
     "text": [
      "This is a text file \n",
      "\n",
      "I am learning fike handling in python\n",
      "\n",
      "Python is a high level programming language\n",
      "\n",
      "It is simple and easy to use.\n"
     ]
    }
   ],
   "source": [
    "# Step1 => opening the file\n",
    "result = open('file.txt','r')\n",
    "#Step 2 - performing operation\n",
    "for data in result:\n",
    "    print(data)\n",
    "# Step 3 - closing the file\n",
    "result.close()"
   ]
  },
  {
   "cell_type": "markdown",
   "metadata": {},
   "source": [
    "# technique 2 "
   ]
  },
  {
   "cell_type": "code",
   "execution_count": 27,
   "metadata": {},
   "outputs": [
    {
     "name": "stdout",
     "output_type": "stream",
     "text": [
      "This is a text file\\n\n",
      "I am learning fike handling in python\n",
      "Python is a high level programming language\n",
      "It is simple and easy to use.\n"
     ]
    }
   ],
   "source": [
    "with open('file.txt',newline='') as data:\n",
    "    print(data.read())"
   ]
  },
  {
   "cell_type": "code",
   "execution_count": null,
   "metadata": {},
   "outputs": [],
   "source": []
  },
  {
   "cell_type": "code",
   "execution_count": 17,
   "metadata": {},
   "outputs": [],
   "source": [
    "with open('two.txt','w',newline='') as data:\n",
    "    data.write(\"This is Line 1\")\n",
    "    data.write('\\n')\n",
    "    data.write(\"This is Line 2\")"
   ]
  },
  {
   "cell_type": "code",
   "execution_count": 19,
   "metadata": {},
   "outputs": [],
   "source": [
    "with open(\"demo.txt\",'w') as data:\n",
    "    data.writelines(['I am a boy\\n', 'I stay in Mumbai\\n','I love coding'])"
   ]
  },
  {
   "cell_type": "code",
   "execution_count": null,
   "metadata": {},
   "outputs": [],
   "source": []
  },
  {
   "cell_type": "code",
   "execution_count": 3,
   "metadata": {},
   "outputs": [
    {
     "name": "stdout",
     "output_type": "stream",
     "text": [
      "True\n"
     ]
    }
   ],
   "source": [
    "with open('file.txt','w') as test:\n",
    "    print(test.writable())"
   ]
  },
  {
   "cell_type": "code",
   "execution_count": 5,
   "metadata": {},
   "outputs": [
    {
     "name": "stdout",
     "output_type": "stream",
     "text": [
      "This is line number 1 \n",
      "This is line number 2\n",
      "This is line number 3\n",
      "This is line number 4\n",
      "This is line number 5\n",
      "This is line number 6\n",
      "This is line number 7\n",
      "This is line number 8\n",
      "This is line number 9\n",
      "This is line number 10\n"
     ]
    }
   ],
   "source": [
    "with open('file.txt','r') as test:\n",
    "    print(test.read())"
   ]
  },
  {
   "cell_type": "code",
   "execution_count": 15,
   "metadata": {},
   "outputs": [
    {
     "name": "stdout",
     "output_type": "stream",
     "text": [
      "This is line number 1 \n",
      "\n",
      "23\n",
      "Current Position of cursor is 44\n"
     ]
    }
   ],
   "source": [
    "with open('file.txt','r') as test:\n",
    "    print(test.read(23))\n",
    "    print(test.tell())\n",
    "    test.seek(44)\n",
    "    print(\"Current Position of cursor is\",test.tell())"
   ]
  },
  {
   "cell_type": "code",
   "execution_count": null,
   "metadata": {},
   "outputs": [],
   "source": []
  }
 ],
 "metadata": {
  "kernelspec": {
   "display_name": "Python 3",
   "language": "python",
   "name": "python3"
  },
  "language_info": {
   "codemirror_mode": {
    "name": "ipython",
    "version": 3
   },
   "file_extension": ".py",
   "mimetype": "text/x-python",
   "name": "python",
   "nbconvert_exporter": "python",
   "pygments_lexer": "ipython3",
   "version": "3.7.6"
  }
 },
 "nbformat": 4,
 "nbformat_minor": 4
}
