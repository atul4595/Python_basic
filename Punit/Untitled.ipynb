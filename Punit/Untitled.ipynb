{
 "cells": [
  {
   "cell_type": "code",
   "execution_count": 7,
   "metadata": {},
   "outputs": [
    {
     "name": "stdout",
     "output_type": "stream",
     "text": [
      "Please enter the day: weekend\n",
      "It is vaction or not: Yes\n",
      "off\n"
     ]
    }
   ],
   "source": [
    "day=input(\"Please enter the day: \")\n",
    "vacation=input(\"It is vaction or not: \")\n",
    "if vacation==\"Yes\":\n",
    "  if day==\"weekday\":\n",
    "    alarm=\"10:00\"\n",
    "  else:\n",
    "    alarm=\"off\"\n",
    "else:\n",
    "  if day==\"weekday\":\n",
    "    alarm=\"7:00\"\n",
    "  else:\n",
    "    alarm=\"10:00\"\n",
    "\n",
    "print(alarm)"
   ]
  },
  {
   "cell_type": "code",
   "execution_count": 9,
   "metadata": {},
   "outputs": [
    {
     "name": "stdout",
     "output_type": "stream",
     "text": [
      "Enter ValueFalse\n"
     ]
    }
   ],
   "source": [
    "inp = bool(input(\"Enter Value\"))"
   ]
  },
  {
   "cell_type": "code",
   "execution_count": 10,
   "metadata": {},
   "outputs": [
    {
     "data": {
      "text/plain": [
       "True"
      ]
     },
     "execution_count": 10,
     "metadata": {},
     "output_type": "execute_result"
    }
   ],
   "source": [
    "inp"
   ]
  },
  {
   "cell_type": "code",
   "execution_count": 13,
   "metadata": {},
   "outputs": [],
   "source": [
    "str = 33\n"
   ]
  },
  {
   "cell_type": "code",
   "execution_count": 14,
   "metadata": {},
   "outputs": [
    {
     "name": "stdout",
     "output_type": "stream",
     "text": [
      "True\n"
     ]
    }
   ],
   "source": [
    "st1 = bool(str)\n",
    "print(type(st1))\n",
    "print(st1)"
   ]
  },
  {
   "cell_type": "code",
   "execution_count": 15,
   "metadata": {},
   "outputs": [
    {
     "data": {
      "text/plain": [
       "33"
      ]
     },
     "execution_count": 15,
     "metadata": {},
     "output_type": "execute_result"
    }
   ],
   "source": [
    "str"
   ]
  },
  {
   "cell_type": "code",
   "execution_count": 16,
   "metadata": {},
   "outputs": [
    {
     "data": {
      "text/plain": [
       "True"
      ]
     },
     "execution_count": 16,
     "metadata": {},
     "output_type": "execute_result"
    }
   ],
   "source": [
    "bool(33)"
   ]
  },
  {
   "cell_type": "code",
   "execution_count": 17,
   "metadata": {},
   "outputs": [
    {
     "data": {
      "text/plain": [
       "True"
      ]
     },
     "execution_count": 17,
     "metadata": {},
     "output_type": "execute_result"
    }
   ],
   "source": [
    "bool(\"hello\")"
   ]
  },
  {
   "cell_type": "code",
   "execution_count": 18,
   "metadata": {},
   "outputs": [
    {
     "data": {
      "text/plain": [
       "True"
      ]
     },
     "execution_count": 18,
     "metadata": {},
     "output_type": "execute_result"
    }
   ],
   "source": [
    "bool(88.99)"
   ]
  },
  {
   "cell_type": "code",
   "execution_count": 19,
   "metadata": {},
   "outputs": [
    {
     "data": {
      "text/plain": [
       "'True'"
      ]
     },
     "execution_count": 19,
     "metadata": {},
     "output_type": "execute_result"
    }
   ],
   "source": [
    "\"True\""
   ]
  },
  {
   "cell_type": "code",
   "execution_count": 1,
   "metadata": {},
   "outputs": [
    {
     "name": "stdout",
     "output_type": "stream",
     "text": [
      "1\n",
      "4\n",
      "9\n",
      "16\n",
      "25\n",
      "36\n",
      "49\n",
      "64\n",
      "81\n",
      "100\n",
      "1\n",
      "4\n",
      "9\n",
      "16\n",
      "25\n",
      "36\n",
      "49\n",
      "64\n",
      "81\n",
      "100\n"
     ]
    }
   ],
   "source": [
    "# A Python program to generate squares from 1 \n",
    "# to 100 using yield and therefore generator \n",
    "\n",
    "# An infinite generator function that prints \n",
    "# next square number. It starts with 1 \n",
    "def nextSquare(): \n",
    "\ti = 1; \n",
    "\n",
    "\t# An Infinite loop to generate squares \n",
    "\twhile True: \n",
    "\t\tyield i*i\t\t\t\t \n",
    "\t\ti += 1 # Next execution resumes \n",
    "\t\t\t\t# from this point\t \n",
    "\n",
    "# Driver code to test above generator \n",
    "# function \n",
    "for num in nextSquare(): \n",
    "\tif num > 100: \n",
    "\t\tbreak\t\n",
    "\tprint(num) \n",
    "# A Python program to generate squares from 1 \n",
    "# to 100 using yield and therefore generator \n",
    "\n",
    "# An infinite generator function that prints \n",
    "# next square number. It starts with 1 \n",
    "def nextSquare(): \n",
    "\ti = 1; \n",
    "\n",
    "\t# An Infinite loop to generate squares \n",
    "\twhile True: \n",
    "\t\tyield i*i\t\t\t\t \n",
    "\t\ti += 1 # Next execution resumes \n",
    "\t\t\t\t# from this point\t \n",
    "\n",
    "# Driver code to test above generator \n",
    "# function \n",
    "for num in nextSquare(): \n",
    "\tif num > 100: \n",
    "\t\tbreak\t\n",
    "\tprint(num) \n"
   ]
  },
  {
   "cell_type": "code",
   "execution_count": null,
   "metadata": {},
   "outputs": [],
   "source": []
  }
 ],
 "metadata": {
  "kernelspec": {
   "display_name": "Python 3",
   "language": "python",
   "name": "python3"
  },
  "language_info": {
   "codemirror_mode": {
    "name": "ipython",
    "version": 3
   },
   "file_extension": ".py",
   "mimetype": "text/x-python",
   "name": "python",
   "nbconvert_exporter": "python",
   "pygments_lexer": "ipython3",
   "version": "3.7.6"
  }
 },
 "nbformat": 4,
 "nbformat_minor": 4
}
