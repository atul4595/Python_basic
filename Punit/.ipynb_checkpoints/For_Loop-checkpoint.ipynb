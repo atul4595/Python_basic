{
 "cells": [
  {
   "cell_type": "code",
   "execution_count": 10,
   "metadata": {},
   "outputs": [
    {
     "name": "stdout",
     "output_type": "stream",
     "text": [
      "3628800\n"
     ]
    }
   ],
   "source": [
    "total = 1\n",
    "for number in range(1,11):\n",
    "    total = total * number\n",
    "print(total)"
   ]
  },
  {
   "cell_type": "code",
   "execution_count": 4,
   "metadata": {},
   "outputs": [
    {
     "data": {
      "text/plain": [
       "False"
      ]
     },
     "execution_count": 4,
     "metadata": {},
     "output_type": "execute_result"
    }
   ],
   "source": [
    "11 in range(1,11)"
   ]
  },
  {
   "cell_type": "code",
   "execution_count": 12,
   "metadata": {},
   "outputs": [
    {
     "name": "stdout",
     "output_type": "stream",
     "text": [
      "10\n",
      "9\n",
      "8\n",
      "7\n",
      "6\n",
      "5\n",
      "4\n",
      "3\n",
      "2\n",
      "1\n"
     ]
    }
   ],
   "source": [
    "for num in range(10,0,-1):\n",
    "    print(num)"
   ]
  },
  {
   "cell_type": "code",
   "execution_count": 13,
   "metadata": {},
   "outputs": [
    {
     "data": {
      "text/plain": [
       "9"
      ]
     },
     "execution_count": 13,
     "metadata": {},
     "output_type": "execute_result"
    }
   ],
   "source": [
    "len(fruit)"
   ]
  },
  {
   "cell_type": "code",
   "execution_count": 11,
   "metadata": {},
   "outputs": [],
   "source": [
    "fruit = \"pineapple\""
   ]
  },
  {
   "cell_type": "code",
   "execution_count": 18,
   "metadata": {},
   "outputs": [
    {
     "name": "stdout",
     "output_type": "stream",
     "text": [
      "i\n",
      "e\n",
      "a\n",
      "e\n"
     ]
    }
   ],
   "source": [
    "for data in range(0,len(fruit)):\n",
    "    if(fruit[data] == \"a\" or fruit[data] == \"e\" or fruit[data] == \"i\" or fruit[data] == \"o\" or fruit[data] == \"u\"):\n",
    "        print(fruit[data])\n",
    "#     print(\"index is\",data,\"value is\",fruit[data])"
   ]
  },
  {
   "cell_type": "code",
   "execution_count": 1,
   "metadata": {},
   "outputs": [],
   "source": [
    "fruit = \"apple\""
   ]
  },
  {
   "cell_type": "code",
   "execution_count": 6,
   "metadata": {},
   "outputs": [
    {
     "name": "stdout",
     "output_type": "stream",
     "text": [
      "A\n",
      "E\n"
     ]
    }
   ],
   "source": [
    "for value in range(0,len(fruit)):\n",
    "    if (fruit[value]=='a' or fruit[value] =='e' or fruit[value]=='i' or fruit[value] =='o' or fruit[value]=='u'):\n",
    "        print(fruit[value].upper())"
   ]
  },
  {
   "cell_type": "code",
   "execution_count": null,
   "metadata": {},
   "outputs": [],
   "source": []
  },
  {
   "cell_type": "code",
   "execution_count": 7,
   "metadata": {},
   "outputs": [],
   "source": [
    "hobbies = ['cricket','singing','dancing','cooking','travelling']"
   ]
  },
  {
   "cell_type": "code",
   "execution_count": 8,
   "metadata": {},
   "outputs": [
    {
     "name": "stdout",
     "output_type": "stream",
     "text": [
      "cricket\n",
      "singing\n",
      "dancing\n",
      "cooking\n",
      "travelling\n"
     ]
    }
   ],
   "source": [
    "for data in hobbies:\n",
    "    print(data)"
   ]
  },
  {
   "cell_type": "code",
   "execution_count": 12,
   "metadata": {},
   "outputs": [
    {
     "name": "stdout",
     "output_type": "stream",
     "text": [
      "0 cricket\n",
      "1 singing\n",
      "2 dancing\n",
      "3 cooking\n",
      "4 travelling\n"
     ]
    }
   ],
   "source": [
    "for val in range(0,len(hobbies)):\n",
    "    print(val,hobbies[val])"
   ]
  },
  {
   "cell_type": "code",
   "execution_count": null,
   "metadata": {},
   "outputs": [],
   "source": []
  },
  {
   "cell_type": "code",
   "execution_count": 4,
   "metadata": {},
   "outputs": [
    {
     "name": "stdout",
     "output_type": "stream",
     "text": [
      "How many Subject Do you Have: 5\n",
      "Enter Marks for the subjects: 50\n",
      "Enter Marks for the subjects: 50\n",
      "Enter Marks for the subjects: 50\n",
      "Enter Marks for the subjects: 50\n",
      "Enter Marks for the subjects: 50\n",
      "[50, 50, 50, 50, 50]\n",
      "250\n"
     ]
    }
   ],
   "source": [
    "marks = []\n",
    "\n",
    "inp_subject = int(input(\"How many Subject Do you Have: \"))\n",
    "sum_t=0\n",
    "for data in range(0,inp_subject):\n",
    "    inp_data = int(input(\"Enter Marks for the subjects: \"))\n",
    "    marks.append(inp_data)\n",
    "    sum_t=sum_t+inp_data\n",
    "print(marks)\n",
    "print(sum_t)"
   ]
  },
  {
   "cell_type": "code",
   "execution_count": 1,
   "metadata": {},
   "outputs": [
    {
     "name": "stdout",
     "output_type": "stream",
     "text": [
      "How many hobbies do you have: 5\n",
      "Enter your hobbies: Cricket\n",
      "Enter your hobbies: Chess\n",
      "Enter your hobbies: Reading\n",
      "Enter your hobbies: Cooking\n",
      "Enter your hobbies: Football\n",
      "['Cricket', 'Chess', 'Reading', 'Cooking', 'Football']\n"
     ]
    }
   ],
   "source": [
    "Hobbies=[]\n",
    "Hobb_Count=int(input(\"How many hobbies do you have: \"))\n",
    "\n",
    "for Hob in range(0,Hobb_Count):\n",
    "    hob_input=input(\"Enter your hobbies: \")\n",
    "    Hobbies.append(hob_input)\n",
    "\n",
    "print(Hobbies)"
   ]
  },
  {
   "cell_type": "code",
   "execution_count": 12,
   "metadata": {},
   "outputs": [
    {
     "name": "stdout",
     "output_type": "stream",
     "text": [
      "True\n"
     ]
    }
   ],
   "source": [
    "Check=[13,6,13,6]\n",
    "if Check[0]==6 or Check[len(Check)-1]==6:\n",
    "    print(True)\n",
    "else:\n",
    "    print(False)"
   ]
  },
  {
   "cell_type": "code",
   "execution_count": null,
   "metadata": {},
   "outputs": [],
   "source": []
  },
  {
   "cell_type": "code",
   "execution_count": null,
   "metadata": {},
   "outputs": [],
   "source": []
  }
 ],
 "metadata": {
  "kernelspec": {
   "display_name": "Python 3",
   "language": "python",
   "name": "python3"
  },
  "language_info": {
   "codemirror_mode": {
    "name": "ipython",
    "version": 3
   },
   "file_extension": ".py",
   "mimetype": "text/x-python",
   "name": "python",
   "nbconvert_exporter": "python",
   "pygments_lexer": "ipython3",
   "version": "3.8.5"
  }
 },
 "nbformat": 4,
 "nbformat_minor": 4
}
