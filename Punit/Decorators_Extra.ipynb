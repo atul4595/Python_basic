{
 "cells": [
  {
   "cell_type": "code",
   "execution_count": 13,
   "metadata": {},
   "outputs": [],
   "source": [
    "def outer_func():\n",
    "    message = \"Hi\"\n",
    "    def inner_function():\n",
    "        print(message)\n",
    "    return inner_function\n",
    "\n",
    "\n",
    "\n",
    "def decorator_function():\n",
    "    def wrapper_function(name,age):\n",
    "        print(name,age)\n",
    "    return wrapper_function"
   ]
  },
  {
   "cell_type": "code",
   "execution_count": 18,
   "metadata": {},
   "outputs": [],
   "source": [
    "res = decorator_function()"
   ]
  },
  {
   "cell_type": "code",
   "execution_count": 19,
   "metadata": {},
   "outputs": [
    {
     "name": "stdout",
     "output_type": "stream",
     "text": [
      "steve 22\n"
     ]
    }
   ],
   "source": [
    "res(\"steve\",22)"
   ]
  },
  {
   "cell_type": "code",
   "execution_count": null,
   "metadata": {},
   "outputs": [],
   "source": []
  },
  {
   "cell_type": "code",
   "execution_count": 21,
   "metadata": {},
   "outputs": [],
   "source": [
    "name = \"punit\""
   ]
  },
  {
   "cell_type": "code",
   "execution_count": 23,
   "metadata": {},
   "outputs": [
    {
     "name": "stdout",
     "output_type": "stream",
     "text": [
      "<class 'str'>\n"
     ]
    }
   ],
   "source": [
    "print(type(name))"
   ]
  },
  {
   "cell_type": "code",
   "execution_count": null,
   "metadata": {},
   "outputs": [],
   "source": []
  },
  {
   "cell_type": "code",
   "execution_count": 12,
   "metadata": {},
   "outputs": [],
   "source": [
    "def decorator_func(fun):\n",
    "    def inner():\n",
    "        print(\"Before Entering Function\")\n",
    "        fun()\n",
    "        print(\"After Enhancing Function\")\n",
    "    return inner\n",
    "\n",
    "\n",
    "@decorator_func\n",
    "def updated_func():\n",
    "    print(\"I am a new feature\")\n",
    "    print(\"I am version 2.0\")"
   ]
  },
  {
   "cell_type": "code",
   "execution_count": 13,
   "metadata": {},
   "outputs": [],
   "source": [
    "result = decorator_func(updated_func)"
   ]
  },
  {
   "cell_type": "code",
   "execution_count": 14,
   "metadata": {},
   "outputs": [
    {
     "name": "stdout",
     "output_type": "stream",
     "text": [
      "Before Entering Function\n",
      "After Enhancing Function\n"
     ]
    }
   ],
   "source": [
    "result()"
   ]
  },
  {
   "cell_type": "code",
   "execution_count": 31,
   "metadata": {},
   "outputs": [
    {
     "name": "stdout",
     "output_type": "stream",
     "text": [
      "Before Entering Function\n",
      "I am a new feature\n",
      "I am version 2.0\n",
      "After Enhancing Function\n"
     ]
    }
   ],
   "source": [
    "updated_func()"
   ]
  },
  {
   "cell_type": "code",
   "execution_count": null,
   "metadata": {},
   "outputs": [],
   "source": []
  },
  {
   "cell_type": "code",
   "execution_count": 7,
   "metadata": {},
   "outputs": [],
   "source": [
    "def calc(func):\n",
    "    def cal_data(num1,num2):\n",
    "        add = num1 + num2\n",
    "        sub = num1 - num2\n",
    "        mul = num1 * num2\n",
    "        print(\"Addition is\",add)\n",
    "        print(\"Substraction is\",sub)\n",
    "        print(\"Multiplication is\",mul)\n",
    "        func(num1,num2)\n",
    "#         div_calc(num1,num2)\n",
    "    return cal_data\n",
    "\n",
    "@calc\n",
    "def div_calc(n1,n2):\n",
    "    result = n1/n2\n",
    "    print(\"Division is \",result)"
   ]
  },
  {
   "cell_type": "code",
   "execution_count": null,
   "metadata": {},
   "outputs": [],
   "source": []
  },
  {
   "cell_type": "code",
   "execution_count": 51,
   "metadata": {},
   "outputs": [],
   "source": [
    "def decorator_example(function):\n",
    "    def wrapper_func(*args,**kwargs):\n",
    "        print(\"Entered Arguments are: {} {}\".format(args[0],args[1]))\n",
    "        function(*args,**kwargs)\n",
    "    return wrapper_func\n",
    "\n",
    "@decorator_example\n",
    "def cities(city_one,city_two):\n",
    "    print(\"Cities i like is {} {}\".format(city_one,city_two))"
   ]
  },
  {
   "cell_type": "code",
   "execution_count": 52,
   "metadata": {},
   "outputs": [
    {
     "name": "stdout",
     "output_type": "stream",
     "text": [
      "Entered Arguments are: New York Mumbai\n",
      "Cities i like is New York Mumbai\n"
     ]
    }
   ],
   "source": [
    "cities(\"New York\",\"Mumbai\")"
   ]
  },
  {
   "cell_type": "code",
   "execution_count": null,
   "metadata": {},
   "outputs": [],
   "source": []
  },
  {
   "cell_type": "code",
   "execution_count": null,
   "metadata": {},
   "outputs": [],
   "source": []
  },
  {
   "cell_type": "code",
   "execution_count": null,
   "metadata": {},
   "outputs": [],
   "source": []
  },
  {
   "cell_type": "code",
   "execution_count": 38,
   "metadata": {},
   "outputs": [],
   "source": [
    "def logit(func):\n",
    "#     @wraps(func)\n",
    "    def with_logging(*args, **kwargs):\n",
    "        print(func.__name__ + \" was called\")\n",
    "        return func(*args, **kwargs)\n",
    "    return with_logging\n",
    "\n",
    "@logit\n",
    "def addition_func(x):\n",
    "   \"\"\"Do some math.\"\"\"\n",
    "   return x + x"
   ]
  },
  {
   "cell_type": "code",
   "execution_count": 39,
   "metadata": {},
   "outputs": [
    {
     "name": "stdout",
     "output_type": "stream",
     "text": [
      "addition_func was called\n"
     ]
    },
    {
     "data": {
      "text/plain": [
       "20"
      ]
     },
     "execution_count": 39,
     "metadata": {},
     "output_type": "execute_result"
    }
   ],
   "source": [
    "addition_func(10)"
   ]
  },
  {
   "cell_type": "code",
   "execution_count": null,
   "metadata": {},
   "outputs": [],
   "source": []
  },
  {
   "cell_type": "code",
   "execution_count": null,
   "metadata": {},
   "outputs": [],
   "source": []
  },
  {
   "cell_type": "code",
   "execution_count": 70,
   "metadata": {},
   "outputs": [],
   "source": [
    "def star(func):\n",
    "    def inner(*args,**kwargs):\n",
    "        print(\"*\" * 20)\n",
    "        func(*args,**kwargs)\n",
    "        print(\"*\" * 20)\n",
    "    return inner\n",
    "\n",
    "\n",
    "def percentage(func):\n",
    "    def inner(*args,**kwargs):\n",
    "        print(\"%\" * 30)\n",
    "        func(*args,**kwargs)\n",
    "        print(\"%\"*30)\n",
    "    return inner\n",
    "\n",
    "\n",
    "\n",
    "@percentage\n",
    "def printer(msg):\n",
    "    print(msg)\n",
    "    \n",
    "@star    \n",
    "def printer1(message):\n",
    "    print(message)"
   ]
  },
  {
   "cell_type": "code",
   "execution_count": 71,
   "metadata": {},
   "outputs": [
    {
     "name": "stdout",
     "output_type": "stream",
     "text": [
      "%%%%%%%%%%%%%%%%%%%%%%%%%%%%%%\n",
      "Hello World\n",
      "%%%%%%%%%%%%%%%%%%%%%%%%%%%%%%\n",
      "********************\n",
      "Welcome Test\n",
      "********************\n"
     ]
    }
   ],
   "source": [
    "printer(\"Hello World\")\n",
    "\n",
    "printer1(\"Welcome Test\")"
   ]
  },
  {
   "cell_type": "code",
   "execution_count": null,
   "metadata": {},
   "outputs": [],
   "source": []
  }
 ],
 "metadata": {
  "kernelspec": {
   "display_name": "Python 3",
   "language": "python",
   "name": "python3"
  },
  "language_info": {
   "codemirror_mode": {
    "name": "ipython",
    "version": 3
   },
   "file_extension": ".py",
   "mimetype": "text/x-python",
   "name": "python",
   "nbconvert_exporter": "python",
   "pygments_lexer": "ipython3",
   "version": "3.7.6"
  }
 },
 "nbformat": 4,
 "nbformat_minor": 4
}
