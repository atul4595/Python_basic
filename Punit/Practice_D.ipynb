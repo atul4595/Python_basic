{
 "cells": [
  {
   "cell_type": "code",
   "execution_count": 1,
   "metadata": {},
   "outputs": [],
   "source": [
    "nested_dict = {\n",
    "    \n",
    "    400001:{\n",
    "        \n",
    "        \"name\":\"punit\",\n",
    "        \"age\":27,\n",
    "        \"qual\":\"MCA\",\n",
    "        \"flist\":500,\n",
    "        \"hobbies\":\"coding\"\n",
    "        \n",
    "    },\n",
    "    \n",
    "    400002:{\n",
    "        \n",
    "        \"name\":\"atul\",\n",
    "        \"age\":26,\n",
    "        \"qual\":\"BE\",\n",
    "        \"flist\":1000,\n",
    "        \"hobbies\":\"sports\"\n",
    "        \n",
    "    },\n",
    "    \n",
    "    400003:{\n",
    "        \"name\":\"jayendra\",\n",
    "        \"age\":20,\n",
    "        \"qual\":\"BSC\",\n",
    "        \"flist\":700,\n",
    "        \"hobbies\":\"studying\"\n",
    "        \n",
    "    }\n",
    "    \n",
    "    \n",
    "    \n",
    "}"
   ]
  },
  {
   "cell_type": "code",
   "execution_count": 2,
   "metadata": {},
   "outputs": [],
   "source": [
    "nested_dict[400003]['hobbies']=[\"studying\",\"cricket\"]"
   ]
  },
  {
   "cell_type": "code",
   "execution_count": 3,
   "metadata": {},
   "outputs": [
    {
     "data": {
      "text/plain": [
       "{400001: {'name': 'punit',\n",
       "  'age': 27,\n",
       "  'qual': 'MCA',\n",
       "  'flist': 500,\n",
       "  'hobbies': 'coding'},\n",
       " 400002: {'name': 'atul',\n",
       "  'age': 26,\n",
       "  'qual': 'BE',\n",
       "  'flist': 1000,\n",
       "  'hobbies': 'sports'},\n",
       " 400003: {'name': 'jayendra',\n",
       "  'age': 20,\n",
       "  'qual': 'BSC',\n",
       "  'flist': 700,\n",
       "  'hobbies': ['studying', 'cricket']}}"
      ]
     },
     "execution_count": 3,
     "metadata": {},
     "output_type": "execute_result"
    }
   ],
   "source": [
    "nested_dict"
   ]
  },
  {
   "cell_type": "code",
   "execution_count": 4,
   "metadata": {},
   "outputs": [],
   "source": [
    "nested_dict[400003]['hobbies'].append(\"Reading\")"
   ]
  },
  {
   "cell_type": "code",
   "execution_count": 5,
   "metadata": {},
   "outputs": [
    {
     "data": {
      "text/plain": [
       "{400001: {'name': 'punit',\n",
       "  'age': 27,\n",
       "  'qual': 'MCA',\n",
       "  'flist': 500,\n",
       "  'hobbies': 'coding'},\n",
       " 400002: {'name': 'atul',\n",
       "  'age': 26,\n",
       "  'qual': 'BE',\n",
       "  'flist': 1000,\n",
       "  'hobbies': 'sports'},\n",
       " 400003: {'name': 'jayendra',\n",
       "  'age': 20,\n",
       "  'qual': 'BSC',\n",
       "  'flist': 700,\n",
       "  'hobbies': ['studying', 'cricket', 'Reading']}}"
      ]
     },
     "execution_count": 5,
     "metadata": {},
     "output_type": "execute_result"
    }
   ],
   "source": [
    "nested_dict"
   ]
  },
  {
   "cell_type": "code",
   "execution_count": 6,
   "metadata": {},
   "outputs": [
    {
     "ename": "NameError",
     "evalue": "name 'new' is not defined",
     "output_type": "error",
     "traceback": [
      "\u001b[1;31m---------------------------------------------------------------------------\u001b[0m",
      "\u001b[1;31mNameError\u001b[0m                                 Traceback (most recent call last)",
      "\u001b[1;32m<ipython-input-6-3db23992aa2c>\u001b[0m in \u001b[0;36m<module>\u001b[1;34m\u001b[0m\n\u001b[1;32m----> 1\u001b[1;33m \u001b[0mnew\u001b[0m\u001b[1;33m.\u001b[0m\u001b[0msetdefault\u001b[0m\u001b[1;33m(\u001b[0m\u001b[1;34m\"qual\"\u001b[0m\u001b[1;33m)\u001b[0m\u001b[1;33m\u001b[0m\u001b[1;33m\u001b[0m\u001b[0m\n\u001b[0m",
      "\u001b[1;31mNameError\u001b[0m: name 'new' is not defined"
     ]
    }
   ],
   "source": [
    "new.setdefault(\"qual\")"
   ]
  },
  {
   "cell_type": "code",
   "execution_count": null,
   "metadata": {},
   "outputs": [],
   "source": [
    "new={}"
   ]
  },
  {
   "cell_type": "code",
   "execution_count": null,
   "metadata": {},
   "outputs": [],
   "source": [
    "new.setdefault(\"qual\")"
   ]
  },
  {
   "cell_type": "code",
   "execution_count": null,
   "metadata": {},
   "outputs": [],
   "source": [
    "cigars=int(input(\"Please enter the numbers of cigar u want\"))\n",
    "day=input(\"Please enter the day\")"
   ]
  },
  {
   "cell_type": "code",
   "execution_count": 22,
   "metadata": {},
   "outputs": [
    {
     "name": "stdout",
     "output_type": "stream",
     "text": [
      "weekdays Ok\n"
     ]
    }
   ],
   "source": [
    "if cigars>=30 and cigars<=60 and day==\"weekday\":\n",
    "    print(\"weekdays Ok\")\n",
    "elif cigars>=30 and day==\"weekend\":\n",
    "    print(\"Weekend Ok\")\n",
    "else:\n",
    "    print(\"Input is wrong\")"
   ]
  },
  {
   "cell_type": "code",
   "execution_count": null,
   "metadata": {},
   "outputs": [],
   "source": []
  }
 ],
 "metadata": {
  "kernelspec": {
   "display_name": "Python 3",
   "language": "python",
   "name": "python3"
  },
  "language_info": {
   "codemirror_mode": {
    "name": "ipython",
    "version": 3
   },
   "file_extension": ".py",
   "mimetype": "text/x-python",
   "name": "python",
   "nbconvert_exporter": "python",
   "pygments_lexer": "ipython3",
   "version": "3.7.6"
  }
 },
 "nbformat": 4,
 "nbformat_minor": 4
}
